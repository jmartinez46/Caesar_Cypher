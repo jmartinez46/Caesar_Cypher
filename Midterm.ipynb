{
 "cells": [
  {
   "cell_type": "code",
   "execution_count": 57,
   "metadata": {},
   "outputs": [],
   "source": [
    "#Imports and setup of environment\n",
    "from pyspark import SparkContext, SparkConf\n",
    "import enchant\n",
    "d = enchant.Dict(\"en_US\")\n",
    "import random\n",
    "\n",
    "APP_NAME = \"Spark Program\"\n",
    "\n",
    "conf = SparkConf().setMaster(\"local[*]\").setAppName(APP_NAME)\n",
    "sc = SparkContext.getOrCreate()"
   ]
  },
  {
   "cell_type": "code",
   "execution_count": 58,
   "metadata": {},
   "outputs": [],
   "source": [
    "#Getting files needed through spark\n",
    "words1 = sc.textFile(\"Encrypted-1.txt\")\n",
    "words2 = sc.textFile(\"Encrypted-2.txt\")\n",
    "words3 = sc.textFile(\"Encrypted-3.txt\")"
   ]
  },
  {
   "cell_type": "code",
   "execution_count": 59,
   "metadata": {},
   "outputs": [
    {
     "data": {
      "text/plain": [
       "[('a', 3859),\n",
       " ('b', 4400),\n",
       " ('c', 2135),\n",
       " ('d', 58),\n",
       " ('e', 3454),\n",
       " ('f', 3548),\n",
       " ('g', 4451),\n",
       " ('h', 1621),\n",
       " ('i', 563),\n",
       " ('j', 652),\n",
       " ('k', 288),\n",
       " ('l', 909),\n",
       " ('m', 56),\n",
       " ('n', 4143),\n",
       " ('o', 912),\n",
       " ('p', 1916),\n",
       " ('q', 1762),\n",
       " ('r', 6366),\n",
       " ('s', 1077),\n",
       " ('t', 1096),\n",
       " ('u', 2061),\n",
       " ('v', 3569),\n",
       " ('w', 73),\n",
       " ('x', 422),\n",
       " ('y', 2092),\n",
       " ('z', 1522)]"
      ]
     },
     "execution_count": 59,
     "metadata": {},
     "output_type": "execute_result"
    }
   ],
   "source": [
    "#Finds character count of each letter Encrypted-1.txt\n",
    "charmap = words1.flatMap(lambda line: list(line))\n",
    "charmap = charmap.map(lambda line: line if line.isalpha() else None)\n",
    "charmap = charmap.filter(lambda line: line != None)\n",
    "charmap = charmap.map(lambda line: (line.lower(), 1))\n",
    "\n",
    "charcount = charmap.reduceByKey(lambda a, b: a + b)\n",
    "charcount = charcount.sortByKey(True)\n",
    "charcount.collect()"
   ]
  },
  {
   "cell_type": "code",
   "execution_count": 60,
   "metadata": {},
   "outputs": [
    {
     "name": "stdout",
     "output_type": "stream",
     "text": [
      "Highest Count Character:  r\n",
      "Shift Number:  13\n"
     ]
    }
   ],
   "source": [
    "#Find character with highest occourance and find the shift number to 'e'\n",
    "maxchar = charcount.max(key = lambda x: +x[1])\n",
    "shift = ord(maxchar[0]) - ord('e')\n",
    "print(\"Highest Count Character: \", maxchar[0])\n",
    "print(\"Shift Number: \", shift)"
   ]
  },
  {
   "cell_type": "code",
   "execution_count": 61,
   "metadata": {},
   "outputs": [],
   "source": [
    "#Open Encrypted-1.txt file, read it, write the Decrypted-1.txt file\n",
    "enc = open(\"Encrypted-1.txt\", 'r')\n",
    "dec = open(\"Decrypted-1.txt\", 'w')\n",
    "Lines = enc.readlines()\n",
    "#Changes letters using the cypher\n",
    "for line in Lines:\n",
    "    for c in range(len(line)):\n",
    "        if line[c].isupper(): #Upper Case Change\n",
    "            newchar = chr((ord(line[c]) - shift - 65) % 26 + 65)\n",
    "            dec.write(newchar)\n",
    "        elif line[c].islower():#Lower Case Change\n",
    "            newchar = chr((ord(line[c]) - shift - 97) % 26 + 97)\n",
    "            dec.write(newchar)\n",
    "        else:\n",
    "            dec.write(line[c])"
   ]
  },
  {
   "cell_type": "code",
   "execution_count": 62,
   "metadata": {},
   "outputs": [
    {
     "name": "stdout",
     "output_type": "stream",
     "text": [
      "English Words: 1056\n",
      "Total Words:   1440\n",
      "Percentage:    73.33 %\n",
      "Correct Decryption\n"
     ]
    }
   ],
   "source": [
    "#Check sections of Decrypted-1.txt to see if it passes natral language processing\n",
    "dec = open(\"Decrypted-1.txt\", 'r')\n",
    "Lines = dec.readlines()\n",
    "wordlist = []\n",
    "for line in Lines:\n",
    "    words = line.split()\n",
    "    for word in words:\n",
    "        if not word.isalpha():\n",
    "            words.remove(word)\n",
    "    if len(words) != 0:\n",
    "        wordlist.append(random.choice(words))        \n",
    "\n",
    "truecount = 0\n",
    "count = 0\n",
    "for words in wordlist:\n",
    "    if d.check(words):\n",
    "        truecount = truecount + 1\n",
    "    count = count + 1\n",
    "print(\"English Words:\", truecount)   \n",
    "print(\"Total Words:  \", count) \n",
    "percent = round(truecount/count*100, 2)\n",
    "print(\"Percentage:   \",percent,\"%\")\n",
    "if percent >= 60:\n",
    "    print(\"Correct Decryption\")\n",
    "else:\n",
    "    print(\"Incorrect Decryption\")"
   ]
  },
  {
   "cell_type": "code",
   "execution_count": 63,
   "metadata": {},
   "outputs": [
    {
     "data": {
      "text/plain": [
       "[('a', 5646),\n",
       " ('b', 6999),\n",
       " ('c', 108),\n",
       " ('d', 515),\n",
       " ('e', 3503),\n",
       " ('f', 2351),\n",
       " ('g', 6943),\n",
       " ('h', 7253),\n",
       " ('i', 1889),\n",
       " ('j', 121),\n",
       " ('k', 6278),\n",
       " ('l', 6436),\n",
       " ('m', 9131),\n",
       " ('n', 2676),\n",
       " ('o', 1002),\n",
       " ('p', 2225),\n",
       " ('q', 168),\n",
       " ('r', 1699),\n",
       " ('s', 68),\n",
       " ('t', 8130),\n",
       " ('u', 1477),\n",
       " ('v', 2711),\n",
       " ('w', 4322),\n",
       " ('x', 12851),\n",
       " ('y', 2537),\n",
       " ('z', 1973)]"
      ]
     },
     "execution_count": 63,
     "metadata": {},
     "output_type": "execute_result"
    }
   ],
   "source": [
    "#Finds character count of each letter Encrypted-2.txt\n",
    "charmap = words2.flatMap(lambda line: list(line))\n",
    "charmap = charmap.map(lambda line: line if line.isalpha() else None)\n",
    "charmap = charmap.filter(lambda line: line != None)\n",
    "charmap = charmap.map(lambda line: (line.lower(), 1))\n",
    "\n",
    "charcount = charmap.reduceByKey(lambda a, b: a + b)\n",
    "charcount = charcount.sortByKey(True)\n",
    "charcount.collect()"
   ]
  },
  {
   "cell_type": "code",
   "execution_count": 64,
   "metadata": {},
   "outputs": [
    {
     "name": "stdout",
     "output_type": "stream",
     "text": [
      "Highest Count Character:  x\n",
      "Shift Number:  19\n"
     ]
    }
   ],
   "source": [
    "#Find character with highest occourance and find the shift number to e\n",
    "maxchar = charcount.max(key = lambda x: +x[1])\n",
    "shift = ord(maxchar[0]) - ord('e')\n",
    "print(\"Highest Count Character: \", maxchar[0])\n",
    "print(\"Shift Number: \", shift)"
   ]
  },
  {
   "cell_type": "code",
   "execution_count": 65,
   "metadata": {},
   "outputs": [],
   "source": [
    "#Open Encrypted-2 file, read it, write the Decrypted-2.txt file\n",
    "enc = open(\"Encrypted-2.txt\", 'r')\n",
    "dec = open(\"Decrypted-2.txt\", 'w')\n",
    "Lines = enc.readlines()\n",
    "#Changes letters using the cypher\n",
    "for line in Lines:\n",
    "    for c in range(len(line)):\n",
    "        if line[c].isupper(): #Upper Case Change\n",
    "            newchar = chr((ord(line[c]) - shift - 65) % 26 + 65)\n",
    "            dec.write(newchar)\n",
    "        elif line[c].islower():#Lower Case Change\n",
    "            newchar = chr((ord(line[c]) - shift - 97) % 26 + 97)\n",
    "            dec.write(newchar)\n",
    "        else:\n",
    "            dec.write(line[c])"
   ]
  },
  {
   "cell_type": "code",
   "execution_count": 66,
   "metadata": {},
   "outputs": [
    {
     "name": "stdout",
     "output_type": "stream",
     "text": [
      "English Words: 1794\n",
      "Total Words:   1835\n",
      "Percentage:    97.77 %\n",
      "Correct Decryption\n"
     ]
    }
   ],
   "source": [
    "#Check sections of Decrypted-2.txt to see if it passes natral language processing\n",
    "dec = open(\"Decrypted-2.txt\", 'r')\n",
    "Lines = dec.readlines()\n",
    "wordlist = []\n",
    "for line in Lines:\n",
    "    words = line.split()\n",
    "    for word in words:\n",
    "        if not word.isalpha():\n",
    "            words.remove(word)\n",
    "    if len(words) != 0:\n",
    "        wordlist.append(random.choice(words))        \n",
    "\n",
    "truecount = 0\n",
    "count = 0\n",
    "for words in wordlist:\n",
    "    if d.check(words):\n",
    "        truecount = truecount + 1\n",
    "    count = count + 1\n",
    "print(\"English Words:\", truecount)   \n",
    "print(\"Total Words:  \", count) \n",
    "percent = round(truecount/count*100, 2)\n",
    "print(\"Percentage:   \",percent,\"%\")\n",
    "if percent >= 60:\n",
    "    print(\"Correct Decryption\")\n",
    "else:\n",
    "    print(\"Incorrect Decryption\")"
   ]
  },
  {
   "cell_type": "code",
   "execution_count": 67,
   "metadata": {},
   "outputs": [
    {
     "data": {
      "text/plain": [
       "[('a', 201),\n",
       " ('b', 340),\n",
       " ('c', 39),\n",
       " ('d', 702),\n",
       " ('e', 20),\n",
       " ('f', 1732),\n",
       " ('g', 446),\n",
       " ('h', 604),\n",
       " ('i', 793),\n",
       " ('j', 1817),\n",
       " ('k', 296),\n",
       " ('l', 612),\n",
       " ('m', 863),\n",
       " ('n', 1366),\n",
       " ('o', 58),\n",
       " ('p', 324),\n",
       " ('q', 818),\n",
       " ('r', 406),\n",
       " ('s', 1358),\n",
       " ('t', 1482),\n",
       " ('u', 282),\n",
       " ('v', 7),\n",
       " ('w', 989),\n",
       " ('x', 1628),\n",
       " ('y', 1726),\n",
       " ('z', 504)]"
      ]
     },
     "execution_count": 67,
     "metadata": {},
     "output_type": "execute_result"
    }
   ],
   "source": [
    "#Finds character count of each letter Encrypted-3.txt\n",
    "charmap = words3.flatMap(lambda line: list(line))\n",
    "charmap = charmap.map(lambda line: line if line.isalpha() else None)\n",
    "charmap = charmap.filter(lambda line: line != None)\n",
    "charmap = charmap.map(lambda line: (line.lower(), 1))\n",
    "\n",
    "charcount = charmap.reduceByKey(lambda a, b: a + b)\n",
    "charcount = charcount.sortByKey(True)\n",
    "charcount.collect()"
   ]
  },
  {
   "cell_type": "code",
   "execution_count": 68,
   "metadata": {},
   "outputs": [
    {
     "name": "stdout",
     "output_type": "stream",
     "text": [
      "Highest Count Character:  j\n",
      "Shift Number:  5\n"
     ]
    }
   ],
   "source": [
    "#Find character with highest occourance and find the shift number to e\n",
    "maxchar = charcount.max(key = lambda x: +x[1])\n",
    "shift = ord(maxchar[0]) - ord('e')\n",
    "print(\"Highest Count Character: \", maxchar[0])\n",
    "print(\"Shift Number: \", shift)"
   ]
  },
  {
   "cell_type": "code",
   "execution_count": 69,
   "metadata": {},
   "outputs": [],
   "source": [
    "#Open Encrypted-3 file, read it, write the Decrypted-3.txt file\n",
    "enc = open(\"Encrypted-3.txt\", 'r')\n",
    "dec = open(\"Decrypted-3.txt\", 'w')\n",
    "Lines = enc.readlines()\n",
    "#Changes letters using the cypher\n",
    "for line in Lines:\n",
    "    for c in range(len(line)):\n",
    "        if line[c].isupper(): #Upper Case Change\n",
    "            newchar = chr((ord(line[c]) - shift - 65) % 26 + 65)\n",
    "            dec.write(newchar)\n",
    "        elif line[c].islower():#Lower Case Change\n",
    "            newchar = chr((ord(line[c]) - shift - 97) % 26 + 97)\n",
    "            dec.write(newchar)\n",
    "        else:\n",
    "            dec.write(line[c])"
   ]
  },
  {
   "cell_type": "code",
   "execution_count": 70,
   "metadata": {},
   "outputs": [
    {
     "name": "stdout",
     "output_type": "stream",
     "text": [
      "English Words: 834\n",
      "Total Words:   862\n",
      "Percentage:    96.75 %\n",
      "Correct Decryption\n"
     ]
    }
   ],
   "source": [
    "#Check sections of Decrypted-3.txt to see if it passes natral language processing\n",
    "dec = open(\"Decrypted-3.txt\", 'r')\n",
    "Lines = dec.readlines()\n",
    "wordlist = []\n",
    "for line in Lines:\n",
    "    words = line.split()\n",
    "    for word in words:\n",
    "        if not word.isalpha():\n",
    "            words.remove(word)\n",
    "    if len(words) != 0:\n",
    "        wordlist.append(random.choice(words))        \n",
    "\n",
    "truecount = 0\n",
    "count = 0\n",
    "for words in wordlist:\n",
    "    if d.check(words):\n",
    "        truecount = truecount + 1\n",
    "    count = count + 1\n",
    "print(\"English Words:\", truecount)   \n",
    "print(\"Total Words:  \", count) \n",
    "percent = round(truecount/count*100, 2)\n",
    "print(\"Percentage:   \",percent,\"%\")\n",
    "if percent >= 60:\n",
    "    print(\"Correct Decryption\")\n",
    "else:\n",
    "    print(\"Incorrect Decryption\")"
   ]
  },
  {
   "cell_type": "code",
   "execution_count": null,
   "metadata": {},
   "outputs": [],
   "source": []
  },
  {
   "cell_type": "code",
   "execution_count": null,
   "metadata": {},
   "outputs": [],
   "source": []
  }
 ],
 "metadata": {
  "kernelspec": {
   "display_name": "Python 3",
   "language": "python",
   "name": "python3"
  },
  "language_info": {
   "codemirror_mode": {
    "name": "ipython",
    "version": 3
   },
   "file_extension": ".py",
   "mimetype": "text/x-python",
   "name": "python",
   "nbconvert_exporter": "python",
   "pygments_lexer": "ipython3",
   "version": "3.7.3"
  }
 },
 "nbformat": 4,
 "nbformat_minor": 2
}
